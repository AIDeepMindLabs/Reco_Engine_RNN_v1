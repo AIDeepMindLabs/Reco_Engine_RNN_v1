{
 "cells": [
  {
   "cell_type": "code",
   "execution_count": 1,
   "metadata": {
    "collapsed": true
   },
   "outputs": [],
   "source": [
    "import numpy as np\n",
    "import pandas as pd\n",
    "import matplotlib.pyplot as plt\n",
    "%matplotlib inline"
   ]
  },
  {
   "cell_type": "code",
   "execution_count": 2,
   "metadata": {
    "collapsed": true
   },
   "outputs": [],
   "source": [
    "DATA_PATH = \"Data/example-file.csv\""
   ]
  },
  {
   "cell_type": "code",
   "execution_count": 3,
   "metadata": {},
   "outputs": [
    {
     "data": {
      "text/html": [
       "<div>\n",
       "<style>\n",
       "    .dataframe thead tr:only-child th {\n",
       "        text-align: right;\n",
       "    }\n",
       "\n",
       "    .dataframe thead th {\n",
       "        text-align: left;\n",
       "    }\n",
       "\n",
       "    .dataframe tbody tr th {\n",
       "        vertical-align: top;\n",
       "    }\n",
       "</style>\n",
       "<table border=\"1\" class=\"dataframe\">\n",
       "  <thead>\n",
       "    <tr style=\"text-align: right;\">\n",
       "      <th></th>\n",
       "      <th>COLLECTOR_KEY</th>\n",
       "      <th>LAST_TXN_DTE</th>\n",
       "      <th>FGC</th>\n",
       "      <th>target</th>\n",
       "      <th>trans</th>\n",
       "      <th>recency</th>\n",
       "      <th>pc</th>\n",
       "      <th>pci</th>\n",
       "      <th>si</th>\n",
       "      <th>flag_AIR</th>\n",
       "      <th>...</th>\n",
       "      <th>flag_ls_se</th>\n",
       "      <th>flag_f</th>\n",
       "      <th>flag_m</th>\n",
       "      <th>age</th>\n",
       "      <th>tenure</th>\n",
       "      <th>flag_on</th>\n",
       "      <th>dist</th>\n",
       "      <th>SHOPPED_L2W</th>\n",
       "      <th>LOADED_L2W</th>\n",
       "      <th>RECOMMENDED_L2W</th>\n",
       "    </tr>\n",
       "  </thead>\n",
       "  <tbody>\n",
       "    <tr>\n",
       "      <th>130732</th>\n",
       "      <td>1294377</td>\n",
       "      <td>20160630</td>\n",
       "      <td>21084</td>\n",
       "      <td>0</td>\n",
       "      <td>0</td>\n",
       "      <td>NaN</td>\n",
       "      <td>185.0</td>\n",
       "      <td>1.972973</td>\n",
       "      <td>1.255373</td>\n",
       "      <td>0</td>\n",
       "      <td>...</td>\n",
       "      <td>0</td>\n",
       "      <td>1</td>\n",
       "      <td>0</td>\n",
       "      <td>61.0</td>\n",
       "      <td>26</td>\n",
       "      <td>0</td>\n",
       "      <td>0.575</td>\n",
       "      <td>0</td>\n",
       "      <td>0</td>\n",
       "      <td>0</td>\n",
       "    </tr>\n",
       "    <tr>\n",
       "      <th>40189</th>\n",
       "      <td>364654</td>\n",
       "      <td>20160630</td>\n",
       "      <td>111776</td>\n",
       "      <td>0</td>\n",
       "      <td>0</td>\n",
       "      <td>NaN</td>\n",
       "      <td>34.0</td>\n",
       "      <td>10.735294</td>\n",
       "      <td>1.200583</td>\n",
       "      <td>0</td>\n",
       "      <td>...</td>\n",
       "      <td>0</td>\n",
       "      <td>1</td>\n",
       "      <td>0</td>\n",
       "      <td>43.0</td>\n",
       "      <td>82</td>\n",
       "      <td>1</td>\n",
       "      <td>99.294</td>\n",
       "      <td>0</td>\n",
       "      <td>0</td>\n",
       "      <td>0</td>\n",
       "    </tr>\n",
       "    <tr>\n",
       "      <th>40190</th>\n",
       "      <td>364654</td>\n",
       "      <td>20160630</td>\n",
       "      <td>111778</td>\n",
       "      <td>0</td>\n",
       "      <td>0</td>\n",
       "      <td>NaN</td>\n",
       "      <td>63.0</td>\n",
       "      <td>5.793651</td>\n",
       "      <td>0.678551</td>\n",
       "      <td>0</td>\n",
       "      <td>...</td>\n",
       "      <td>0</td>\n",
       "      <td>1</td>\n",
       "      <td>0</td>\n",
       "      <td>43.0</td>\n",
       "      <td>82</td>\n",
       "      <td>1</td>\n",
       "      <td>99.294</td>\n",
       "      <td>0</td>\n",
       "      <td>0</td>\n",
       "      <td>0</td>\n",
       "    </tr>\n",
       "    <tr>\n",
       "      <th>172486</th>\n",
       "      <td>1660464</td>\n",
       "      <td>20160630</td>\n",
       "      <td>9604</td>\n",
       "      <td>0</td>\n",
       "      <td>0</td>\n",
       "      <td>NaN</td>\n",
       "      <td>90.0</td>\n",
       "      <td>4.055556</td>\n",
       "      <td>0.926189</td>\n",
       "      <td>0</td>\n",
       "      <td>...</td>\n",
       "      <td>0</td>\n",
       "      <td>1</td>\n",
       "      <td>0</td>\n",
       "      <td>55.0</td>\n",
       "      <td>85</td>\n",
       "      <td>1</td>\n",
       "      <td>163.274</td>\n",
       "      <td>0</td>\n",
       "      <td>0</td>\n",
       "      <td>0</td>\n",
       "    </tr>\n",
       "    <tr>\n",
       "      <th>36471</th>\n",
       "      <td>338037</td>\n",
       "      <td>20160630</td>\n",
       "      <td>71292</td>\n",
       "      <td>0</td>\n",
       "      <td>0</td>\n",
       "      <td>NaN</td>\n",
       "      <td>80.0</td>\n",
       "      <td>4.562500</td>\n",
       "      <td>1.218462</td>\n",
       "      <td>0</td>\n",
       "      <td>...</td>\n",
       "      <td>0</td>\n",
       "      <td>1</td>\n",
       "      <td>0</td>\n",
       "      <td>42.0</td>\n",
       "      <td>32</td>\n",
       "      <td>0</td>\n",
       "      <td>2.189</td>\n",
       "      <td>0</td>\n",
       "      <td>0</td>\n",
       "      <td>0</td>\n",
       "    </tr>\n",
       "  </tbody>\n",
       "</table>\n",
       "<p>5 rows × 62 columns</p>\n",
       "</div>"
      ],
      "text/plain": [
       "        COLLECTOR_KEY  LAST_TXN_DTE     FGC  target  trans  recency     pc  \\\n",
       "130732        1294377      20160630   21084       0      0      NaN  185.0   \n",
       "40189          364654      20160630  111776       0      0      NaN   34.0   \n",
       "40190          364654      20160630  111778       0      0      NaN   63.0   \n",
       "172486        1660464      20160630    9604       0      0      NaN   90.0   \n",
       "36471          338037      20160630   71292       0      0      NaN   80.0   \n",
       "\n",
       "              pci        si  flag_AIR       ...         flag_ls_se  flag_f  \\\n",
       "130732   1.972973  1.255373         0       ...                  0       1   \n",
       "40189   10.735294  1.200583         0       ...                  0       1   \n",
       "40190    5.793651  0.678551         0       ...                  0       1   \n",
       "172486   4.055556  0.926189         0       ...                  0       1   \n",
       "36471    4.562500  1.218462         0       ...                  0       1   \n",
       "\n",
       "        flag_m   age  tenure  flag_on     dist  SHOPPED_L2W  LOADED_L2W  \\\n",
       "130732       0  61.0      26        0    0.575            0           0   \n",
       "40189        0  43.0      82        1   99.294            0           0   \n",
       "40190        0  43.0      82        1   99.294            0           0   \n",
       "172486       0  55.0      85        1  163.274            0           0   \n",
       "36471        0  42.0      32        0    2.189            0           0   \n",
       "\n",
       "        RECOMMENDED_L2W  \n",
       "130732                0  \n",
       "40189                 0  \n",
       "40190                 0  \n",
       "172486                0  \n",
       "36471                 0  \n",
       "\n",
       "[5 rows x 62 columns]"
      ]
     },
     "execution_count": 3,
     "metadata": {},
     "output_type": "execute_result"
    }
   ],
   "source": [
    "# Read transaction data\n",
    "transactions_raw = pd.read_csv(DATA_PATH)\n",
    "transactions_raw = transactions_raw.sort_values(\"LAST_TXN_DTE\")\n",
    "transactions_raw.head()"
   ]
  },
  {
   "cell_type": "code",
   "execution_count": 4,
   "metadata": {},
   "outputs": [
    {
     "name": "stdout",
     "output_type": "stream",
     "text": [
      "Number of users:  693\n",
      "\n",
      "Distribution of orders: \n"
     ]
    },
    {
     "data": {
      "image/png": "[encoded data removed]",
      "text/plain": [
       "<matplotlib.figure.Figure at 0x7f040c02da90>"
      ]
     },
     "metadata": {},
     "output_type": "display_data"
    },
    {
     "name": "stdout",
     "output_type": "stream",
     "text": [
      "[402]\n"
     ]
    }
   ],
   "source": [
    "print(\"Number of users: \", len(transactions_raw[\"COLLECTOR_KEY\"].unique()))\n",
    "print()\n",
    "\n",
    "print(\"Distribution of orders: \")\n",
    "transactions_raw.groupby(by=\"COLLECTOR_KEY\")[\"FGC\"].count().plot()\n",
    "plt.show()\n",
    "print(transactions_raw.groupby(by=\"COLLECTOR_KEY\")[\"FGC\"].count().unique())"
   ]
  },
  {
   "cell_type": "markdown",
   "metadata": {},
   "source": [
    "### Format categorical data"
   ]
  },
  {
   "cell_type": "code",
   "execution_count": 5,
   "metadata": {
    "collapsed": true
   },
   "outputs": [],
   "source": [
    "transactions_fgc_encoded = transactions_raw.copy()\n",
    "dummies = pd.get_dummies(transactions_raw[\"FGC\"])\n",
    "# Keep hold of new categories real values\n",
    "dummyMapper = list(dummies.columns)\n",
    "transactions_fgc_encoded = pd.concat([transactions_fgc_encoded, dummies], axis=1)\n",
    "\n",
    "del dummies\n",
    "del transactions_raw\n",
    "\n",
    "transactions_fgc_encoded = transactions_fgc_encoded.drop([\"FGC\", \"LAST_TXN_DTE\", \"recency\"], axis=1)"
   ]
  },
  {
   "cell_type": "code",
   "execution_count": 6,
   "metadata": {
    "collapsed": true
   },
   "outputs": [],
   "source": [
    "from sklearn.preprocessing import MinMaxScaler\n",
    "\n",
    "scaler = MinMaxScaler()\n",
    "\n",
    "transactions_fgc_encoded.loc[:, \"target\":] = scaler.fit_transform(transactions_fgc_encoded.loc[:, \"target\":])"
   ]
  },
  {
   "cell_type": "markdown",
   "metadata": {},
   "source": [
    "### Create a dynamic user representation in matrix\n",
    "This creates a set of N orders, where N-1 are used for input and the model will predict the next order. This way it can learn the trends and patterns in orders instead of learning user -> order mapping."
   ]
  },
  {
   "cell_type": "code",
   "execution_count": 7,
   "metadata": {
    "collapsed": true
   },
   "outputs": [],
   "source": [
    "dynamic_user_order_sets = []\n",
    "dynamic_user_target_values = []\n",
    "\n",
    "lim = 10  # Orders in one set\n",
    "MAX_SAMPLES = 3000 # or None for maximum samples (more RAM required)\n",
    "\n",
    "for name, group in transactions_fgc_encoded.groupby(by=\"COLLECTOR_KEY\"):\n",
    "    if MAX_SAMPLES and len(dynamic_user_order_sets) >= MAX_SAMPLES:\n",
    "            break\n",
    "    \n",
    "    for i in range(0, len(group)-lim-1):\n",
    "        if MAX_SAMPLES and len(dynamic_user_order_sets) >= MAX_SAMPLES:\n",
    "            break\n",
    "        try:\n",
    "            order_seq = group.values[i:i+lim-1,1:]\n",
    "            next_order = group.values[i+lim, -len(dummyMapper):]\n",
    "            dynamic_user_order_sets.append(order_seq)\n",
    "            dynamic_user_target_values.append(next_order)\n",
    "        except IndexError:\n",
    "            break\n",
    "        except MemoryError:\n",
    "            break\n",
    "del transactions_fgc_encoded"
   ]
  },
  {
   "cell_type": "code",
   "execution_count": 8,
   "metadata": {},
   "outputs": [
    {
     "name": "stdout",
     "output_type": "stream",
     "text": [
      "(3000, 9, 460) (3000, 1, 402)\n"
     ]
    }
   ],
   "source": [
    "# Convert to 3 Dimensional Numpy arrays and reverse the axis\n",
    "dynamic_user_order_sets = np.rollaxis(np.dstack(dynamic_user_order_sets), -1)\n",
    "dynamic_user_target_values = np.rollaxis(np.dstack(dynamic_user_target_values), -1)\n",
    "\n",
    "print(dynamic_user_order_sets.shape, dynamic_user_target_values.shape)"
   ]
  },
  {
   "cell_type": "code",
   "execution_count": 9,
   "metadata": {},
   "outputs": [
    {
     "data": {
      "text/plain": [
       "(3000, 402)"
      ]
     },
     "execution_count": 9,
     "metadata": {},
     "output_type": "execute_result"
    }
   ],
   "source": [
    "dynamic_user_target_values = dynamic_user_target_values.reshape(dynamic_user_target_values.shape[0],\\\n",
    "                                                                dynamic_user_target_values.shape[2])\n",
    "dynamic_user_target_values.shape"
   ]
  },
  {
   "cell_type": "code",
   "execution_count": 10,
   "metadata": {
    "collapsed": true
   },
   "outputs": [],
   "source": [
    "np.save(\"dynamic_user_order_sets\", dynamic_user_order_sets)\n",
    "np.save(\"dynamic_user_target_values\", dynamic_user_target_values)\n",
    "np.save(\"dummyMapper\", dummyMapper)"
   ]
  },
  {
   "cell_type": "markdown",
   "metadata": {},
   "source": [
    "## DREAM Model\n",
    "It takes the sequence of transactions and using RNNs predicts what the next transaction might be of\n",
    "\n",
    "Input -> LSTM -> LSTM -> Feed-Forward -> Softmax (Output)"
   ]
  },
  {
   "cell_type": "code",
   "execution_count": 11,
   "metadata": {},
   "outputs": [
    {
     "name": "stderr",
     "output_type": "stream",
     "text": [
      "Using TensorFlow backend.\n"
     ]
    }
   ],
   "source": [
    "from keras.models import Sequential\n",
    "from keras.layers import Dense, GRU, Dropout, Reshape, LSTM"
   ]
  },
  {
   "cell_type": "code",
   "execution_count": 12,
   "metadata": {
    "collapsed": true
   },
   "outputs": [],
   "source": [
    "class DREAM:\n",
    "    def __init__(self, input_shape, uniqueFGCs, activation,\n",
    "                optimizer=\"adagrad\", loss=\"categorical_crossentropy\", metrics=[\"accuracy\"]):\n",
    "        self.model = Sequential()\n",
    "        \n",
    "        self.model.add( LSTM(units=100,\n",
    "                        return_sequences=True,\n",
    "                        unroll=True,\n",
    "                        input_shape=input_shape) )\n",
    "        self.model.add( LSTM(units=32,\n",
    "                        return_sequences=False,\n",
    "                        unroll=True) )\n",
    "        self.model.add( Dropout(rate=0.5) )\n",
    "        self.model.add( Dense(units=550,\n",
    "                             activation=\"relu\") )\n",
    "        self.model.add( Dense(uniqueFGCs, activation='softmax') )\n",
    "        \n",
    "        self.model.compile(optimizer=optimizer,\n",
    "                          loss=loss,\n",
    "                          metrics=metrics)\n",
    "        \n",
    "    def get_model(self):\n",
    "        return self.model\n",
    "    \n",
    "    def predict(self, x):\n",
    "        return self.model.predict(x)"
   ]
  },
  {
   "cell_type": "code",
   "execution_count": 13,
   "metadata": {},
   "outputs": [],
   "source": [
    "dream_model = DREAM(input_shape=dynamic_user_order_sets.shape[1:],\n",
    "                    uniqueFGCs=len(dummyMapper),\n",
    "                    activation=\"relu\",\n",
    "                    optimizer=\"adamax\",\n",
    "                    loss=\"categorical_crossentropy\",\n",
    "                    metrics=[\"accuracy\"])"
   ]
  },
  {
   "cell_type": "code",
   "execution_count": 14,
   "metadata": {},
   "outputs": [
    {
     "name": "stdout",
     "output_type": "stream",
     "text": [
      "_________________________________________________________________\n",
      "Layer (type)                 Output Shape              Param #   \n",
      "=================================================================\n",
      "lstm_1 (LSTM)                (None, 9, 100)            224400    \n",
      "_________________________________________________________________\n",
      "lstm_2 (LSTM)                (None, 32)                17024     \n",
      "_________________________________________________________________\n",
      "dropout_1 (Dropout)          (None, 32)                0         \n",
      "_________________________________________________________________\n",
      "dense_1 (Dense)              (None, 550)               18150     \n",
      "_________________________________________________________________\n",
      "dense_2 (Dense)              (None, 402)               221502    \n",
      "=================================================================\n",
      "Total params: 481,076\n",
      "Trainable params: 481,076\n",
      "Non-trainable params: 0\n",
      "_________________________________________________________________\n"
     ]
    }
   ],
   "source": [
    "dream_model.get_model().summary()"
   ]
  },
  {
   "cell_type": "code",
   "execution_count": 15,
   "metadata": {
    "scrolled": true
   },
   "outputs": [
    {
     "name": "stdout",
     "output_type": "stream",
     "text": [
      "Train on 2700 samples, validate on 300 samples\n",
      "Epoch 1/20\n",
      "2700/2700 [==============================] - 3s - loss: 6.0079 - acc: 7.4074e-04 - val_loss: 5.9984 - val_acc: 0.0000e+00\n",
      "Epoch 2/20\n",
      "2700/2700 [==============================] - 1s - loss: 5.9967 - acc: 0.0019 - val_loss: 5.9984 - val_acc: 0.0033\n",
      "Epoch 3/20\n",
      "2700/2700 [==============================] - 1s - loss: 5.9956 - acc: 0.0015 - val_loss: 5.9997 - val_acc: 0.0000e+00\n",
      "Epoch 4/20\n",
      "2700/2700 [==============================] - ETA: 0s - loss: 5.9945 - acc: 0.001 - 1s - loss: 5.9945 - acc: 0.0019 - val_loss: 6.0024 - val_acc: 0.0033\n",
      "Epoch 5/20\n",
      "2700/2700 [==============================] - 1s - loss: 5.9921 - acc: 0.0037 - val_loss: 6.0032 - val_acc: 0.0000e+00\n",
      "Epoch 6/20\n",
      "2700/2700 [==============================] - 1s - loss: 5.9877 - acc: 0.0019 - val_loss: 6.0086 - val_acc: 0.0000e+00\n",
      "Epoch 7/20\n",
      "2700/2700 [==============================] - 1s - loss: 5.9777 - acc: 0.0052 - val_loss: 6.0209 - val_acc: 0.0033\n",
      "Epoch 8/20\n",
      "2700/2700 [==============================] - 1s - loss: 5.9572 - acc: 0.0059 - val_loss: 6.0358 - val_acc: 0.0000e+00\n",
      "Epoch 9/20\n",
      "2700/2700 [==============================] - 1s - loss: 5.9226 - acc: 0.0030 - val_loss: 6.0632 - val_acc: 0.0000e+00\n",
      "Epoch 10/20\n",
      "2700/2700 [==============================] - 1s - loss: 5.8870 - acc: 0.0041 - val_loss: 6.1018 - val_acc: 0.0000e+00\n",
      "Epoch 11/20\n",
      "2700/2700 [==============================] - 1s - loss: 5.8422 - acc: 0.0067 - val_loss: 6.1640 - val_acc: 0.0033\n",
      "Epoch 12/20\n",
      "2700/2700 [==============================] - 1s - loss: 5.7870 - acc: 0.0063 - val_loss: 6.1384 - val_acc: 0.0033\n",
      "Epoch 13/20\n",
      "2700/2700 [==============================] - 1s - loss: 5.7276 - acc: 0.0093 - val_loss: 6.1788 - val_acc: 0.0033\n",
      "Epoch 14/20\n",
      "2700/2700 [==============================] - 1s - loss: 5.6602 - acc: 0.0096 - val_loss: 6.1954 - val_acc: 0.0067\n",
      "Epoch 15/20\n",
      "2700/2700 [==============================] - 1s - loss: 5.6010 - acc: 0.0156 - val_loss: 6.2289 - val_acc: 0.0067\n",
      "Epoch 16/20\n",
      "2700/2700 [==============================] - 1s - loss: 5.5376 - acc: 0.0193 - val_loss: 6.2469 - val_acc: 0.0067\n",
      "Epoch 17/20\n",
      "2700/2700 [==============================] - 1s - loss: 5.4866 - acc: 0.0237 - val_loss: 6.2543 - val_acc: 0.0033\n",
      "Epoch 18/20\n",
      "2700/2700 [==============================] - 1s - loss: 5.4256 - acc: 0.0222 - val_loss: 6.3056 - val_acc: 0.0033\n",
      "Epoch 19/20\n",
      "2700/2700 [==============================] - 1s - loss: 5.3718 - acc: 0.0281 - val_loss: 6.2995 - val_acc: 0.0033\n",
      "Epoch 20/20\n",
      "2700/2700 [==============================] - 1s - loss: 5.3023 - acc: 0.0356 - val_loss: 6.3242 - val_acc: 0.0000e+00\n"
     ]
    },
    {
     "data": {
      "image/png": "[encoded data removed]",
      "text/plain": [
       "<matplotlib.figure.Figure at 0x7f0396384e48>"
      ]
     },
     "metadata": {},
     "output_type": "display_data"
    }
   ],
   "source": [
    "history = dream_model.model.fit(dynamic_user_order_sets, dynamic_user_target_values,\\\n",
    "                      epochs=20, batch_size=64, validation_split=0.1)\n",
    "\n",
    "# summarize history for loss\n",
    "plt.plot(history.history['loss'])\n",
    "plt.plot(history.history['val_loss'])\n",
    "plt.title('model loss')\n",
    "plt.ylabel('loss')\n",
    "plt.xlabel('epoch')\n",
    "plt.legend(['train', 'test'], loc='upper left')\n",
    "plt.show()"
   ]
  },
  {
   "cell_type": "code",
   "execution_count": 19,
   "metadata": {},
   "outputs": [
    {
     "name": "stdout",
     "output_type": "stream",
     "text": [
      "Got: 29070  Needed: 33714\n"
     ]
    }
   ],
   "source": [
    "pred = dream_model.predict( np.rollaxis( np.dstack( [ dynamic_user_order_sets[0] ] ), -1) )\n",
    "\n",
    "print(\"Got:\",dummyMapper[np.argmax(pred[0])], \" Needed:\", dummyMapper[np.argmax(dynamic_user_target_values[0])])"
   ]
  },
  {
   "cell_type": "code",
   "execution_count": null,
   "metadata": {
    "collapsed": true
   },
   "outputs": [],
   "source": []
  }
 ],
 "metadata": {
  "kernelspec": {
   "display_name": "Python 3",
   "language": "python",
   "name": "python3"
  },
  "language_info": {
   "codemirror_mode": {
    "name": "ipython",
    "version": 3
   },
   "file_extension": ".py",
   "mimetype": "text/x-python",
   "name": "python",
   "nbconvert_exporter": "python",
   "pygments_lexer": "ipython3",
   "version": "3.6.2"
  }
 },
 "nbformat": 4,
 "nbformat_minor": 2
}
